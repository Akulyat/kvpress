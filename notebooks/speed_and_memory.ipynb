{
 "cells": [
  {
   "cell_type": "markdown",
   "metadata": {},
   "source": [
    "In this notebook, we showcase the memory and speed improvement obtained using the KV press pipeline (tested using A100 with 80GB memory)."
   ]
  },
  {
   "cell_type": "code",
   "execution_count": 1,
   "metadata": {},
   "outputs": [],
   "source": [
    "import warnings\n",
    "warnings.filterwarnings(\"ignore\")\n",
    "from time import time\n",
    "\n",
    "import torch\n",
    "from transformers import AutoModelForCausalLM\n",
    "\n",
    "from kvpress import ExpectedAttentionPress"
   ]
  },
  {
   "cell_type": "code",
   "execution_count": 2,
   "metadata": {},
   "outputs": [
    {
     "name": "stderr",
     "output_type": "stream",
     "text": [
      "You are attempting to use Flash Attention 2.0 with a model not initialized on GPU. Make sure to move the model to GPU after initializing it on CPU with `model.to('cuda')`.\n"
     ]
    },
    {
     "data": {
      "application/vnd.jupyter.widget-view+json": {
       "model_id": "65d3b16c204e4537a79ef6f1397f5278",
       "version_major": 2,
       "version_minor": 0
      },
      "text/plain": [
       "Loading checkpoint shards:   0%|          | 0/4 [00:00<?, ?it/s]"
      ]
     },
     "metadata": {},
     "output_type": "display_data"
    },
    {
     "name": "stdout",
     "output_type": "stream",
     "text": [
      "Initial peak memory usage: 14.96 GB\n"
     ]
    }
   ],
   "source": [
    "# Load model\n",
    "\n",
    "device = \"cuda:0\"\n",
    "ckpt = \"meta-llama/Meta-Llama-3.1-8B-Instruct\"\n",
    "n_tokens = 128_000\n",
    "model = AutoModelForCausalLM.from_pretrained(ckpt, torch_dtype=\"auto\", attn_implementation=\"flash_attention_2\").to(device)\n",
    "\n",
    "initial_peak_memory = torch.cuda.max_memory_allocated()\n",
    "print(f\"Initial peak memory usage: {initial_peak_memory / 1024**3:.2f} GB\")"
   ]
  },
  {
   "cell_type": "code",
   "execution_count": 3,
   "metadata": {},
   "outputs": [
    {
     "name": "stderr",
     "output_type": "stream",
     "text": [
      "Starting from v4.46, the `logits` model output will have the same type as the model (except at train time, where it will always be FP32)\n"
     ]
    },
    {
     "name": "stdout",
     "output_type": "stream",
     "text": [
      "Cache size for 128000 tokens: 15.625 GB\n",
      "Peak memory usage: 44.81 GB\n",
      "Peak memory w/o weights and KV cache: 14.23 GB\n",
      "Prefilling time: 28.56s\n"
     ]
    }
   ],
   "source": [
    "# Compute cache size and prefiling time\n",
    "\n",
    "inputs = torch.randint(0, model.config.vocab_size, (1, n_tokens)).to(device)\n",
    "\n",
    "# Model warmup (for better prefilling time estimation)\n",
    "with torch.no_grad():\n",
    "    model(inputs[:, :100])\n",
    "torch.cuda.synchronize()\n",
    "\n",
    "# Compute cache size and prefilling time\n",
    "start = time()\n",
    "with torch.no_grad():\n",
    "    cache = model(inputs, num_logits_to_keep=1).past_key_values\n",
    "    cache_size = 2 * 2 * len(cache) * cache[0][0].numel() # 2 for keys and values, 2 for float16\n",
    "    del cache\n",
    "prefilling_time = time() - start\n",
    "\n",
    "peak_memory = torch.cuda.max_memory_allocated()\n",
    "torch.cuda.empty_cache()\n",
    "print(f\"Cache size for {n_tokens} tokens: {cache_size / 1024**3:.3f} GB\")\n",
    "print(f\"Peak memory usage: {peak_memory / 1024**3:.2f} GB\")\n",
    "print(f\"Peak memory w/o weights and KV cache: {(peak_memory - cache_size - initial_peak_memory) / 1024**3:.2f} GB\")\n",
    "print(f\"Prefilling time: {prefilling_time:.2f}s\")"
   ]
  },
  {
   "cell_type": "code",
   "execution_count": 4,
   "metadata": {},
   "outputs": [
    {
     "name": "stderr",
     "output_type": "stream",
     "text": [
      "The `seen_tokens` attribute is deprecated and will be removed in v4.41. Use the `cache_position` model input instead.\n"
     ]
    },
    {
     "name": "stdout",
     "output_type": "stream",
     "text": [
      "\n",
      "Compression ratio: 0.75\n"
     ]
    },
    {
     "name": "stdout",
     "output_type": "stream",
     "text": [
      "Total time: 35.04s. Estimated generation time: 6.48s\n",
      "Peak memory usage: 33.10 GB\n",
      "\n",
      "Compression ratio: 0.5\n",
      "Total time: 36.27s. Estimated generation time: 7.71s\n",
      "Peak memory usage: 37.00 GB\n",
      "\n",
      "Compression ratio: 0.25\n",
      "Total time: 37.63s. Estimated generation time: 9.08s\n",
      "Peak memory usage: 40.91 GB\n",
      "\n",
      "Compression ratio: 0.0\n",
      "Total time: 37.92s. Estimated generation time: 9.36s\n",
      "Peak memory usage: 44.82 GB\n"
     ]
    }
   ],
   "source": [
    "# Compute peak memory usage and generation time for different compression ratios\n",
    "\n",
    "def timer(press, max_new_tokens = 100):\n",
    "    start = time()\n",
    "    with press(model):\n",
    "        outputs = model.generate(inputs, max_new_tokens=max_new_tokens, do_sample=False, temperature=None, top_p=None, pad_token_id=-1)\n",
    "        assert outputs.shape == (1, n_tokens + max_new_tokens)\n",
    "    return time() - start\n",
    "    \n",
    "for compression_ratio in [0.75, 0.5, 0.25, 0.0]:\n",
    "    print(f\"\\nCompression ratio: {compression_ratio}\")\n",
    "    press = ExpectedAttentionPress(compression_ratio)\n",
    "    torch.cuda.reset_peak_memory_stats()\n",
    "    total_time = timer(press)\n",
    "    print(f\"Total time: {total_time:.2f}s. Estimated generation time: {total_time - prefilling_time:.2f}s\")\n",
    "    print(f\"Peak memory usage: {torch.cuda.max_memory_allocated() / 1024**3:.2f} GB\")"
   ]
  }
 ],
 "metadata": {
  "kernelspec": {
   "display_name": ".venv",
   "language": "python",
   "name": "python3"
  },
  "language_info": {
   "codemirror_mode": {
    "name": "ipython",
    "version": 3
   },
   "file_extension": ".py",
   "mimetype": "text/x-python",
   "name": "python",
   "nbconvert_exporter": "python",
   "pygments_lexer": "ipython3",
   "version": "3.10.12"
  }
 },
 "nbformat": 4,
 "nbformat_minor": 2
}
